{
  "cells": [
    {
      "cell_type": "markdown",
      "source": [
        "## About The Notebook\n",
        "In this notebook, we will explore a `multi-agent system` designed to detect `user queries related to structured and unstructured data`. The system will intelligently fetch and summarize the requested data from Kaggle datasets, providing a practical exercise for students to understand data handling and analysis using Python."
      ],
      "metadata": {
        "id": "tZFOCI0c6UUl"
      },
      "id": "tZFOCI0c6UUl"
    },
    {
      "cell_type": "markdown",
      "source": [
        "\n",
        "## 1. Install Necessary Libraries\n",
        "\n",
        "To begin, we need to install the required libraries. These libraries will help us download datasets, manipulate data, and interact with a SQL database."
      ],
      "metadata": {
        "id": "PRQHk5x16cLV"
      },
      "id": "PRQHk5x16cLV"
    },
    {
      "cell_type": "code",
      "execution_count": 1,
      "id": "ca35dc4c-e35f-4c5c-8780-553125e3929b",
      "metadata": {
        "id": "ca35dc4c-e35f-4c5c-8780-553125e3929b",
        "outputId": "a3c1c5c4-497d-4387-a3c8-792f5550e98d",
        "colab": {
          "base_uri": "https://localhost:8080/"
        }
      },
      "outputs": [
        {
          "output_type": "stream",
          "name": "stdout",
          "text": [
            "Requirement already satisfied: openai in /usr/local/lib/python3.10/dist-packages (1.57.4)\n",
            "Requirement already satisfied: pandas in /usr/local/lib/python3.10/dist-packages (2.2.2)\n",
            "Requirement already satisfied: sqlalchemy in /usr/local/lib/python3.10/dist-packages (2.0.36)\n",
            "Requirement already satisfied: kagglehub in /usr/local/lib/python3.10/dist-packages (0.3.5)\n",
            "Requirement already satisfied: anyio<5,>=3.5.0 in /usr/local/lib/python3.10/dist-packages (from openai) (3.7.1)\n",
            "Requirement already satisfied: distro<2,>=1.7.0 in /usr/local/lib/python3.10/dist-packages (from openai) (1.9.0)\n",
            "Requirement already satisfied: httpx<1,>=0.23.0 in /usr/local/lib/python3.10/dist-packages (from openai) (0.28.1)\n",
            "Requirement already satisfied: jiter<1,>=0.4.0 in /usr/local/lib/python3.10/dist-packages (from openai) (0.8.2)\n",
            "Requirement already satisfied: pydantic<3,>=1.9.0 in /usr/local/lib/python3.10/dist-packages (from openai) (2.10.3)\n",
            "Requirement already satisfied: sniffio in /usr/local/lib/python3.10/dist-packages (from openai) (1.3.1)\n",
            "Requirement already satisfied: tqdm>4 in /usr/local/lib/python3.10/dist-packages (from openai) (4.67.1)\n",
            "Requirement already satisfied: typing-extensions<5,>=4.11 in /usr/local/lib/python3.10/dist-packages (from openai) (4.12.2)\n",
            "Requirement already satisfied: numpy>=1.22.4 in /usr/local/lib/python3.10/dist-packages (from pandas) (1.26.4)\n",
            "Requirement already satisfied: python-dateutil>=2.8.2 in /usr/local/lib/python3.10/dist-packages (from pandas) (2.8.2)\n",
            "Requirement already satisfied: pytz>=2020.1 in /usr/local/lib/python3.10/dist-packages (from pandas) (2024.2)\n",
            "Requirement already satisfied: tzdata>=2022.7 in /usr/local/lib/python3.10/dist-packages (from pandas) (2024.2)\n",
            "Requirement already satisfied: greenlet!=0.4.17 in /usr/local/lib/python3.10/dist-packages (from sqlalchemy) (3.1.1)\n",
            "Requirement already satisfied: packaging in /usr/local/lib/python3.10/dist-packages (from kagglehub) (24.2)\n",
            "Requirement already satisfied: requests in /usr/local/lib/python3.10/dist-packages (from kagglehub) (2.32.3)\n",
            "Requirement already satisfied: idna>=2.8 in /usr/local/lib/python3.10/dist-packages (from anyio<5,>=3.5.0->openai) (3.10)\n",
            "Requirement already satisfied: exceptiongroup in /usr/local/lib/python3.10/dist-packages (from anyio<5,>=3.5.0->openai) (1.2.2)\n",
            "Requirement already satisfied: certifi in /usr/local/lib/python3.10/dist-packages (from httpx<1,>=0.23.0->openai) (2024.12.14)\n",
            "Requirement already satisfied: httpcore==1.* in /usr/local/lib/python3.10/dist-packages (from httpx<1,>=0.23.0->openai) (1.0.7)\n",
            "Requirement already satisfied: h11<0.15,>=0.13 in /usr/local/lib/python3.10/dist-packages (from httpcore==1.*->httpx<1,>=0.23.0->openai) (0.14.0)\n",
            "Requirement already satisfied: annotated-types>=0.6.0 in /usr/local/lib/python3.10/dist-packages (from pydantic<3,>=1.9.0->openai) (0.7.0)\n",
            "Requirement already satisfied: pydantic-core==2.27.1 in /usr/local/lib/python3.10/dist-packages (from pydantic<3,>=1.9.0->openai) (2.27.1)\n",
            "Requirement already satisfied: six>=1.5 in /usr/local/lib/python3.10/dist-packages (from python-dateutil>=2.8.2->pandas) (1.17.0)\n",
            "Requirement already satisfied: charset-normalizer<4,>=2 in /usr/local/lib/python3.10/dist-packages (from requests->kagglehub) (3.4.0)\n",
            "Requirement already satisfied: urllib3<3,>=1.21.1 in /usr/local/lib/python3.10/dist-packages (from requests->kagglehub) (2.2.3)\n"
          ]
        }
      ],
      "source": [
        "# install necessary libraries\n",
        "!pip install openai pandas sqlalchemy kagglehub"
      ]
    },
    {
      "cell_type": "markdown",
      "source": [
        "\n",
        "## 2. Import Libraries\n",
        "\n",
        "Next, we will import the necessary libraries that we just installed. Each library serves a specific purpose in our data processing workflow."
      ],
      "metadata": {
        "id": "gJK7PE376gvs"
      },
      "id": "gJK7PE376gvs"
    },
    {
      "cell_type": "code",
      "source": [
        "import kagglehub\n",
        "import os\n",
        "import pandas as pd\n",
        "from sqlalchemy import create_engine, text\n",
        "from openai import OpenAI"
      ],
      "metadata": {
        "id": "eobiHLXxyniU"
      },
      "id": "eobiHLXxyniU",
      "execution_count": 2,
      "outputs": []
    },
    {
      "cell_type": "markdown",
      "source": [
        "\n",
        "## 3. Download Datasets from Kaggle\n",
        "\n",
        "In this step, we will download both structured and unstructured datasets from Kaggle using the `kagglehub` library. The structured dataset contains tabular data, while the unstructured dataset contains text data."
      ],
      "metadata": {
        "id": "9vbVzaiz6lfH"
      },
      "id": "9vbVzaiz6lfH"
    },
    {
      "cell_type": "code",
      "source": [
        "# Download datasets from Kaggle\n",
        "structured_path = kagglehub.dataset_download(\"dillonmyrick/bike-store-sample-database\")\n",
        "unstructured_path = kagglehub.dataset_download(\"ranand60/unstructured-text-language-data\")\n",
        "\n",
        "print(\"Structured Dataset Path:\", structured_path)\n",
        "print(\"Unstructured Dataset Path:\", unstructured_path)"
      ],
      "metadata": {
        "colab": {
          "base_uri": "https://localhost:8080/"
        },
        "id": "_sk41ANpyoc8",
        "outputId": "14a2a833-ae8e-4691-8330-27c8917b9d7f"
      },
      "id": "_sk41ANpyoc8",
      "execution_count": 3,
      "outputs": [
        {
          "output_type": "stream",
          "name": "stdout",
          "text": [
            "Warning: Looks like you're using an outdated `kagglehub` version (installed: 0.3.5), please consider upgrading to the latest version (0.3.6).\n",
            "Downloading from https://www.kaggle.com/api/v1/datasets/download/dillonmyrick/bike-store-sample-database?dataset_version_number=3...\n"
          ]
        },
        {
          "output_type": "stream",
          "name": "stderr",
          "text": [
            "100%|██████████| 92.2k/92.2k [00:00<00:00, 92.8MB/s]"
          ]
        },
        {
          "output_type": "stream",
          "name": "stdout",
          "text": [
            "Extracting files...\n"
          ]
        },
        {
          "output_type": "stream",
          "name": "stderr",
          "text": [
            "\n"
          ]
        },
        {
          "output_type": "stream",
          "name": "stdout",
          "text": [
            "Warning: Looks like you're using an outdated `kagglehub` version (installed: 0.3.5), please consider upgrading to the latest version (0.3.6).\n",
            "Downloading from https://www.kaggle.com/api/v1/datasets/download/ranand60/unstructured-text-language-data?dataset_version_number=1...\n"
          ]
        },
        {
          "output_type": "stream",
          "name": "stderr",
          "text": [
            "100%|██████████| 416k/416k [00:00<00:00, 84.6MB/s]"
          ]
        },
        {
          "output_type": "stream",
          "name": "stdout",
          "text": [
            "Extracting files...\n",
            "Structured Dataset Path: /root/.cache/kagglehub/datasets/dillonmyrick/bike-store-sample-database/versions/3\n",
            "Unstructured Dataset Path: /root/.cache/kagglehub/datasets/ranand60/unstructured-text-language-data/versions/1\n"
          ]
        },
        {
          "output_type": "stream",
          "name": "stderr",
          "text": [
            "\n"
          ]
        }
      ]
    },
    {
      "cell_type": "markdown",
      "source": [
        "\n",
        "## 4. Set Up the SQL Database\n",
        "\n",
        "Now, we will set up a SQLite database to store the structured data. We will create a database file and establish a connection to it."
      ],
      "metadata": {
        "id": "57p-R2x86ryN"
      },
      "id": "57p-R2x86ryN"
    },
    {
      "cell_type": "code",
      "execution_count": 4,
      "id": "176be958",
      "metadata": {
        "id": "176be958"
      },
      "outputs": [],
      "source": [
        "# Set up the SQL database\n",
        "db_path = \"bike_store_data.db\"\n",
        "engine = create_engine(f'sqlite:///{db_path}')\n",
        "conn = engine.connect()"
      ]
    },
    {
      "cell_type": "markdown",
      "source": [
        "\n",
        "### 4.1 Load Structured Data into SQL Database\n",
        "\n",
        "We will load various CSV files from the structured dataset into the SQL database. Each CSV file corresponds to a different table in the database."
      ],
      "metadata": {
        "id": "96vlXO9v628U"
      },
      "id": "96vlXO9v628U"
    },
    {
      "cell_type": "code",
      "source": [
        "# Load structured data into SQL database\n",
        "structured_files = {\n",
        "    \"brands\": os.path.join(structured_path, \"brands.csv\"),\n",
        "    \"categories\": os.path.join(structured_path, \"categories.csv\"),\n",
        "    \"customers\": os.path.join(structured_path, \"customers.csv\"),\n",
        "    \"order_items\": os.path.join(structured_path, \"order_items.csv\"),\n",
        "    \"orders\": os.path.join(structured_path, \"orders.csv\"),\n",
        "    \"products\": os.path.join(structured_path, \"products.csv\"),\n",
        "    \"staffs\": os.path.join(structured_path, \"staffs.csv\"),\n",
        "    \"stocks\": os.path.join(structured_path, \"stocks.csv\"),\n",
        "    \"stores\": os.path.join(structured_path, \"stores.csv\"),\n",
        "}\n",
        "\n",
        "for table_name, file_path in structured_files.items():\n",
        "    df = pd.read_csv(file_path)\n",
        "    df.to_sql(table_name, con=conn, if_exists='replace', index=False)\n",
        "    print(f\"Table '{table_name}' created successfully.\")"
      ],
      "metadata": {
        "colab": {
          "base_uri": "https://localhost:8080/"
        },
        "id": "6eltu7bI61k1",
        "outputId": "cd29f3f4-dd3c-4735-d7d2-8b761b0e9f82"
      },
      "id": "6eltu7bI61k1",
      "execution_count": 5,
      "outputs": [
        {
          "output_type": "stream",
          "name": "stdout",
          "text": [
            "Table 'brands' created successfully.\n",
            "Table 'categories' created successfully.\n",
            "Table 'customers' created successfully.\n",
            "Table 'order_items' created successfully.\n",
            "Table 'orders' created successfully.\n",
            "Table 'products' created successfully.\n",
            "Table 'staffs' created successfully.\n",
            "Table 'stocks' created successfully.\n",
            "Table 'stores' created successfully.\n"
          ]
        }
      ]
    },
    {
      "cell_type": "markdown",
      "source": [
        "\n",
        "## 5. Load Unstructured Data\n",
        "\n",
        "Next, we will load the unstructured data from an Excel file. This data will be used for text analysis and summarization."
      ],
      "metadata": {
        "id": "95rG4D_n6-Hs"
      },
      "id": "95rG4D_n6-Hs"
    },
    {
      "cell_type": "code",
      "source": [
        "# Load unstructured data\n",
        "unstructured_excel = os.path.join(unstructured_path, \"Unstructured Data English.xlsx\")\n",
        "unstructured_data = pd.read_excel(unstructured_excel)\n",
        "print(\"Loaded unstructured data from:\", unstructured_excel)"
      ],
      "metadata": {
        "colab": {
          "base_uri": "https://localhost:8080/"
        },
        "id": "jvTT44UGyygz",
        "outputId": "bb3c4541-0bc9-4414-d16f-9fbb78029de2"
      },
      "id": "jvTT44UGyygz",
      "execution_count": 6,
      "outputs": [
        {
          "output_type": "stream",
          "name": "stdout",
          "text": [
            "Loaded unstructured data from: /root/.cache/kagglehub/datasets/ranand60/unstructured-text-language-data/versions/1/Unstructured Data English.xlsx\n"
          ]
        }
      ]
    },
    {
      "cell_type": "markdown",
      "source": [
        "## 6. Describe your Agents"
      ],
      "metadata": {
        "id": "Y4V7qYiLskwI"
      },
      "id": "Y4V7qYiLskwI"
    },
    {
      "cell_type": "markdown",
      "source": [
        "### AGENT 1: Structured Data Agent\n",
        "This agent is responsible for `handling queries related to structured data stored in the SQL database`. It processes SQL queries to retrieve data and summarizes the results when applicable."
      ],
      "metadata": {
        "id": "hpSM4AqMrmtr"
      },
      "id": "hpSM4AqMrmtr"
    },
    {
      "cell_type": "code",
      "source": [
        "# Agent 1: Structured Data Agent\n",
        "def structured_data_agent(user_query):\n",
        "    structured_data = None\n",
        "    structured_summary = None\n",
        "\n",
        "    if \"low stock\" in user_query.lower():\n",
        "        query = \"\"\"\n",
        "        SELECT p.product_name, st.quantity, s.store_name, s.city\n",
        "        FROM products p\n",
        "        JOIN stocks st ON p.product_id = st.product_id\n",
        "        JOIN stores s ON st.store_id = s.store_id\n",
        "        WHERE st.quantity < 10\n",
        "        ORDER BY st.quantity ASC;\n",
        "        \"\"\"\n",
        "        structured_data = pd.read_sql_query(text(query), con=conn)\n",
        "\n",
        "        # Generate a summary for structured data\n",
        "        if not structured_data.empty:\n",
        "            product_names = \", \".join(structured_data['product_name'][:5]) + \"...\"\n",
        "            total_low_stock_items = len(structured_data)\n",
        "            structured_summary = (\n",
        "                f\"There are {total_low_stock_items} products with low stock. \"\n",
        "                f\"Some examples include: {product_names}\"\n",
        "            )\n",
        "\n",
        "    return structured_data, structured_summary"
      ],
      "metadata": {
        "id": "7XQXN50hrV1L"
      },
      "id": "7XQXN50hrV1L",
      "execution_count": 7,
      "outputs": []
    },
    {
      "cell_type": "markdown",
      "source": [
        "### AGENT 2: Unstructured Data Agent\n",
        "This `agent handles unstructured textual data`. It searches for relevant information based on keywords and uses OpenAI GPT to summarize matched text, providing insights from unstructured data sources."
      ],
      "metadata": {
        "id": "JwNqUUz8r235"
      },
      "id": "JwNqUUz8r235"
    },
    {
      "cell_type": "code",
      "source": [
        "# Agent 2: Unstructured Data Agent\n",
        "def unstructured_data_agent(user_query):\n",
        "    unstructured_data_summary = None\n",
        "\n",
        "    if \"feedback\" in user_query.lower() or \"review\" in user_query.lower():\n",
        "        keyword = \"Kraft\"  # Example keyword for searching unstructured data\n",
        "        matched_rows = unstructured_data[\n",
        "            unstructured_data.apply(\n",
        "                lambda row: keyword.lower() in row.astype(str).str.lower().to_string(),\n",
        "                axis=1\n",
        "            )\n",
        "        ]\n",
        "        limited_rows = matched_rows.head(10)  # Limit to first 10 rows\n",
        "\n",
        "        if not limited_rows.empty:\n",
        "            combined_text = \" \".join(limited_rows.astype(str).to_string(index=False))\n",
        "\n",
        "            # Summarize text using GPT\n",
        "            client = OpenAI(api_key = \"Your-api-key\")\n",
        "            response = client.chat.completions.create(\n",
        "                model=\"gpt-3.5-turbo\",\n",
        "                messages=[\n",
        "                    {\"role\": \"system\", \"content\": \"You are a helpful assistant that summarizes texts.\"},\n",
        "                    {\"role\": \"user\", \"content\": f\"Summarize the following text:\\n\\n{combined_text}\"}\n",
        "                ],\n",
        "                max_tokens=150\n",
        "            )\n",
        "            unstructured_data_summary = response.choices[0].message.content\n",
        "\n",
        "    return unstructured_data_summary"
      ],
      "metadata": {
        "id": "3xsyD0fNrc0R"
      },
      "id": "3xsyD0fNrc0R",
      "execution_count": 8,
      "outputs": []
    },
    {
      "cell_type": "markdown",
      "source": [
        "\n",
        "## 7. Unified Query Handling Logic\n",
        "\n",
        "This function will intelligently detect whether the query pertains to structured or unstructured data and fetch the relevant information accordingly."
      ],
      "metadata": {
        "id": "8L_NlLvW7B_O"
      },
      "id": "8L_NlLvW7B_O"
    },
    {
      "cell_type": "code",
      "source": [
        "# Unified function to handle user queries\n",
        "def handle_query(user_query):\n",
        "    structured_data, structured_summary = structured_data_agent(user_query)\n",
        "    unstructured_data_summary = unstructured_data_agent(user_query)\n",
        "\n",
        "    return structured_data, structured_summary, unstructured_data_summary"
      ],
      "metadata": {
        "id": "6I18FWTNrhJZ"
      },
      "id": "6I18FWTNrhJZ",
      "execution_count": null,
      "outputs": []
    },
    {
      "cell_type": "markdown",
      "source": [
        "\n",
        "## 8. Test with a User Query\n",
        "\n",
        "We will simulate a user query to test our multi-agent system. This will help us verify that the system can accurately detect and respond to requests for both structured and unstructured data."
      ],
      "metadata": {
        "id": "ILsj_Qkf7Lnt"
      },
      "id": "ILsj_Qkf7Lnt"
    },
    {
      "cell_type": "code",
      "source": [
        "# Test with a user query\n",
        "user_query = \"Can you identify low stock products and summarize customer feedback about them?\"\n",
        "structured_data, structured_summary, unstructured_data_summary = handle_query(user_query)"
      ],
      "metadata": {
        "id": "EMSD9FsJy-wr"
      },
      "id": "EMSD9FsJy-wr",
      "execution_count": null,
      "outputs": []
    },
    {
      "cell_type": "markdown",
      "source": [
        "\n",
        "## 9. Display Results\n",
        "\n",
        "Finally, we will display the results of the structured data query and any summaries generated from the unstructured data. This will provide the user with a comprehensive overview based on their query."
      ],
      "metadata": {
        "id": "vky9Emc89J8L"
      },
      "id": "vky9Emc89J8L"
    },
    {
      "cell_type": "code",
      "source": [
        "# Step 5: Display results\n",
        "if structured_data is not None:\n",
        "    print(\"\\nStructured Data (SQL Query Result):\")\n",
        "    print(structured_data)\n",
        "\n",
        "if structured_summary is not None:\n",
        "    print(\"\\nStructured Data Summary:\")\n",
        "    print(structured_summary)\n",
        "\n",
        "if unstructured_data_summary is not None:\n",
        "    print(\"\\nUnstructured Data Summary:\")\n",
        "    print(unstructured_data_summary)"
      ],
      "metadata": {
        "id": "nZDvWzTI9Io7"
      },
      "id": "nZDvWzTI9Io7",
      "execution_count": null,
      "outputs": []
    },
    {
      "cell_type": "markdown",
      "source": [
        "## Try the Queries given below for Your SQL Dataset\n",
        "We used the Low stock Product example. Go ahead and try the rest. Make sure you change the **`Unified Query Handling Logic`** and the **`User Query`**."
      ],
      "metadata": {
        "id": "iSy3G_qZ7Pxe"
      },
      "id": "iSy3G_qZ7Pxe"
    },
    {
      "cell_type": "code",
      "source": [
        "# Query 1: Fetch customer orders with total amount spent\n",
        "query_1 = \"\"\"\n",
        "SELECT c.first_name || ' ' || c.last_name AS customer_name,\n",
        "       o.order_date,\n",
        "       SUM(oi.quantity * (oi.list_price - oi.discount)) AS total_spent\n",
        "FROM customers c\n",
        "JOIN orders o ON c.customer_id = o.customer_id\n",
        "JOIN order_items oi ON o.order_id = oi.order_id\n",
        "GROUP BY c.customer_id, o.order_id\n",
        "ORDER BY total_spent DESC;\n",
        "\"\"\"\n",
        "\n",
        "# Query 2: Products with low stock\n",
        "query_2 = \"\"\"\n",
        "SELECT p.product_name, s.store_name, st.quantity\n",
        "FROM products p\n",
        "JOIN stocks st ON p.product_id = st.product_id\n",
        "JOIN stores s ON st.store_id = s.store_id\n",
        "WHERE st.quantity < 10\n",
        "ORDER BY st.quantity ASC;\n",
        "\"\"\"\n",
        "\n",
        "query_3 = \"\"\"\n",
        "SELECT st.first_name || ' ' || st.last_name AS staff_name,\n",
        "       SUM(oi.quantity * (oi.list_price - oi.discount)) AS total_sales\n",
        "FROM staffs st\n",
        "JOIN orders o ON st.staff_id = o.staff_id\n",
        "JOIN order_items oi ON o.order_id = oi.order_id\n",
        "GROUP BY st.staff_id\n",
        "ORDER BY total_sales DESC;\n",
        "\"\"\""
      ],
      "metadata": {
        "id": "Glvu3M6vFx7L"
      },
      "id": "Glvu3M6vFx7L",
      "execution_count": null,
      "outputs": []
    }
  ],
  "metadata": {
    "kernelspec": {
      "display_name": "Python 3",
      "name": "python3"
    },
    "language_info": {
      "codemirror_mode": {
        "name": "ipython",
        "version": 3
      },
      "file_extension": ".py",
      "mimetype": "text/x-python",
      "name": "python",
      "nbconvert_exporter": "python",
      "pygments_lexer": "ipython3",
      "version": "3.10.9"
    },
    "colab": {
      "provenance": [],
      "machine_shape": "hm",
      "gpuType": "T4"
    },
    "accelerator": "GPU"
  },
  "nbformat": 4,
  "nbformat_minor": 5
}